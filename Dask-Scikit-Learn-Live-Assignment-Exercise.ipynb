{
  "nbformat": 4,
  "nbformat_minor": 0,
  "metadata": {
    "kernelspec": {
      "display_name": "Python 3",
      "language": "python",
      "name": "python3"
    },
    "language_info": {
      "codemirror_mode": {
        "name": "ipython",
        "version": 3
      },
      "file_extension": ".py",
      "mimetype": "text/x-python",
      "name": "python",
      "nbconvert_exporter": "python",
      "pygments_lexer": "ipython3",
      "version": "3.7.3"
    },
    "colab": {
      "name": "Dask-Scikit-Learn-Live-Assignment-Exercise.ipynb",
      "provenance": [],
      "collapsed_sections": []
    }
  },
  "cells": [
    {
      "cell_type": "markdown",
      "metadata": {
        "id": "cHuMZYDNXbs4"
      },
      "source": [
        "Dask Scikit-Learn Live Assignment\n",
        "==========================================\n",
        "\n",
        "This example is based on [Dask's Scikit-Learn Example](https://examples.dask.org/machine-learning/scale-scikit-learn.html). It demonstrates how Dask can scale scikit-learn to a cluster of machines for a CPU-bound problem.\n",
        "We'll fit a large model, a grid-search over many hyper-parameters, on a small dataset."
      ]
    },
    {
      "cell_type": "code",
      "metadata": {
        "id": "G0WPOWelcXuS"
      },
      "source": [
        "# Dask requires msgpack<1.0 so we will install that first \r\n",
        "!pip install msgpack==0.6.2"
      ],
      "execution_count": null,
      "outputs": []
    },
    {
      "cell_type": "code",
      "metadata": {
        "id": "9D0VZwB3c4Sh"
      },
      "source": [
        "# We would also need to install dask-ml to run ML algorithms from Dask\r\n",
        "!pip install dask-ml"
      ],
      "execution_count": null,
      "outputs": []
    },
    {
      "cell_type": "code",
      "metadata": {
        "id": "eysDyaJVdNs9"
      },
      "source": [
        "!pip install dask distributed --upgrade"
      ],
      "execution_count": null,
      "outputs": []
    },
    {
      "cell_type": "code",
      "metadata": {
        "colab": {
          "base_uri": "https://localhost:8080/",
          "height": 118
        },
        "id": "A-w4erR-Xbs8",
        "outputId": "2fe0c021-2205-43d4-aaeb-b6eff8da95a0"
      },
      "source": [
        "from dask.distributed import Client, progress\n",
        "client = Client(n_workers=4, threads_per_worker=1, memory_limit='2GB')\n",
        "client"
      ],
      "execution_count": 1,
      "outputs": [
        {
          "output_type": "execute_result",
          "data": {
            "text/html": [
              "<table style=\"border: 2px solid white;\">\n",
              "<tr>\n",
              "<td style=\"vertical-align: top; border: 0px solid white\">\n",
              "<h3 style=\"text-align: left;\">Client</h3>\n",
              "<ul style=\"text-align: left; list-style: none; margin: 0; padding: 0;\">\n",
              "  <li><b>Scheduler: </b>tcp://127.0.0.1:44633</li>\n",
              "  <li><b>Dashboard: </b><a href='http://127.0.0.1:8787/status' target='_blank'>http://127.0.0.1:8787/status</a></li>\n",
              "</ul>\n",
              "</td>\n",
              "<td style=\"vertical-align: top; border: 0px solid white\">\n",
              "<h3 style=\"text-align: left;\">Cluster</h3>\n",
              "<ul style=\"text-align: left; list-style:none; margin: 0; padding: 0;\">\n",
              "  <li><b>Workers: </b>4</li>\n",
              "  <li><b>Cores: </b>4</li>\n",
              "  <li><b>Memory: </b>8.00 GB</li>\n",
              "</ul>\n",
              "</td>\n",
              "</tr>\n",
              "</table>"
            ],
            "text/plain": [
              "<Client: 'tcp://127.0.0.1:44633' processes=4 threads=4, memory=8.00 GB>"
            ]
          },
          "metadata": {
            "tags": []
          },
          "execution_count": 1
        }
      ]
    },
    {
      "cell_type": "markdown",
      "metadata": {
        "keep_output": true,
        "id": "GrTMHd_GXbs9"
      },
      "source": [
        "## Distributed Training\n",
        "\n",
        "Scikit-learn uses [joblib](http://joblib.readthedocs.io/) for single-machine parallelism. This lets you train most estimators (anything that accepts an `n_jobs` parameter) using all the cores of your laptop or workstation.\n",
        "\n",
        "Alternatively, Scikit-Learn can use Dask for parallelism.  This lets you train those estimators using all the cores of your *cluster* without significantly changing your code.\n",
        "\n",
        "This is most useful for training large models on medium-sized datasets. You may have a large model when searching over many hyper-parameters, or when using an ensemble method with many individual estimators. For too small datasets, training times will typically be small enough that cluster-wide parallelism isn't helpful. For too large datasets (larger than a single machine's memory), the scikit-learn estimators may not be able to cope (though Dask-ML provides other ways for working with larger than memory datasets)."
      ]
    },
    {
      "cell_type": "markdown",
      "metadata": {
        "id": "RMK8fMC6Xbs-"
      },
      "source": [
        "### Create Scikit-Learn Pipeline"
      ]
    },
    {
      "cell_type": "code",
      "metadata": {
        "id": "uVrOQkDnXbtC"
      },
      "source": [
        "from pprint import pprint\n",
        "from time import time\n",
        "import logging\n",
        "\n",
        "from sklearn.datasets import fetch_20newsgroups\n",
        "from sklearn.feature_extraction.text import HashingVectorizer\n",
        "from sklearn.feature_extraction.text import TfidfTransformer\n",
        "from sklearn.linear_model import SGDClassifier\n",
        "from sklearn.model_selection import GridSearchCV\n",
        "from sklearn.pipeline import Pipeline"
      ],
      "execution_count": 2,
      "outputs": []
    },
    {
      "cell_type": "code",
      "metadata": {
        "colab": {
          "base_uri": "https://localhost:8080/"
        },
        "id": "ScwpYiymXbtC",
        "outputId": "65fa8a0e-6694-4c48-fffa-4863df83e073"
      },
      "source": [
        "# Scale Up: set categories=None to use all the categories\n",
        "categories = [\n",
        "    'alt.atheism',\n",
        "    'talk.religion.misc',\n",
        "]\n",
        "\n",
        "print(\"Loading 20 newsgroups dataset for categories:\")\n",
        "print(categories)\n",
        "\n",
        "data = fetch_20newsgroups(subset='train', categories=categories)\n",
        "print(\"%d documents\" % len(data.filenames))\n",
        "print(\"%d categories\" % len(data.target_names))\n",
        "print()"
      ],
      "execution_count": 3,
      "outputs": [
        {
          "output_type": "stream",
          "text": [
            "Loading 20 newsgroups dataset for categories:\n",
            "['alt.atheism', 'talk.religion.misc']\n",
            "857 documents\n",
            "2 categories\n",
            "\n"
          ],
          "name": "stdout"
        }
      ]
    },
    {
      "cell_type": "markdown",
      "metadata": {
        "id": "3bkhxhj4XbtD"
      },
      "source": [
        "We'll define a small pipeline that combines text feature extraction with a simple classifier."
      ]
    },
    {
      "cell_type": "code",
      "metadata": {
        "id": "yPdGiqj3XbtD"
      },
      "source": [
        "### START CODE ###\n",
        "# Add HashingVectorizer, TfidfTransformer and SGDClassifier with max_iter of 1000 in the pipeline steps\n",
        "pipeline = Pipeline([\n",
        "    ('vect', ),\n",
        "    ('tfidf',),\n",
        "    ('clf', ),\n",
        "])\n",
        "### END CODE ###"
      ],
      "execution_count": 4,
      "outputs": []
    },
    {
      "cell_type": "markdown",
      "metadata": {
        "id": "D7S6nccQXbtD"
      },
      "source": [
        "### Define Grid for Parameter Search"
      ]
    },
    {
      "cell_type": "markdown",
      "metadata": {
        "id": "qnwLKdJzXbtE"
      },
      "source": [
        "Grid search over some parameters."
      ]
    },
    {
      "cell_type": "code",
      "metadata": {
        "id": "T1X_NY8HXbtE"
      },
      "source": [
        "# Un comment the addition parameters if you want to train more\n",
        "parameters = {\n",
        "    'tfidf__use_idf': (True, False),\n",
        "    'tfidf__norm': ('l1', 'l2'),\n",
        "    'clf__alpha': (0.00001, 0.000001),\n",
        "    # 'clf__penalty': ('l2', 'elasticnet'),\n",
        "    # 'clf__n_iter': (10, 50, 80),\n",
        "}"
      ],
      "execution_count": 5,
      "outputs": []
    },
    {
      "cell_type": "code",
      "metadata": {
        "id": "l1EFN8DAXbtE"
      },
      "source": [
        "### START CODE ###\n",
        "# Run GridSearchCV with the pipeline, parameters, n_jobs as -1, cv as 3 and refit=False \n",
        "grid_search = \n",
        "### END CODE ###"
      ],
      "execution_count": 7,
      "outputs": []
    },
    {
      "cell_type": "markdown",
      "metadata": {
        "id": "aO1J7gA-XbtE"
      },
      "source": [
        "To fit this normally, we would write\n",
        "\n",
        "\n",
        "```python\n",
        "grid_search.fit(data.data, data.target)\n",
        "```\n",
        "\n",
        "That would use the default joblib backend (multiple processes) for parallelism.\n",
        "To use the Dask distributed backend, which will use a cluster of machines to train the model, perform the fit in a `parallel_backend` context."
      ]
    },
    {
      "cell_type": "code",
      "metadata": {
        "colab": {
          "base_uri": "https://localhost:8080/"
        },
        "id": "jsZY3qVYXbtF",
        "outputId": "a2a5ca52-6964-422d-9639-628e74a50ed5"
      },
      "source": [
        "import joblib\n",
        "\n",
        "with joblib.parallel_backend('dask'):\n",
        "    grid_search.fit(data.data, data.target)"
      ],
      "execution_count": 8,
      "outputs": [
        {
          "output_type": "stream",
          "text": [
            "Fitting 3 folds for each of 8 candidates, totalling 24 fits\n"
          ],
          "name": "stdout"
        }
      ]
    },
    {
      "cell_type": "markdown",
      "metadata": {
        "id": "cB9QFH2UXbtF"
      },
      "source": [
        "If you had your distributed dashboard open during that fit, you'll notice that each worker performs some of the fit tasks."
      ]
    },
    {
      "cell_type": "markdown",
      "metadata": {
        "id": "PS0Kosc2XbtF"
      },
      "source": [
        "## Parallel, Distributed Prediction\n",
        "\n",
        "Sometimes, you're train on a small dataset, but need to predict for a much larger batch of data.\n",
        "In this case, you'd like your estimator to handle NumPy arrays and pandas DataFrames for training, and dask arrays or DataFrames for prediction. [`dask_ml.wrappers.ParallelPostFit`](http://ml.dask.org/modules/generated/dask_ml.wrappers.ParallelPostFit.html#dask_ml.wrappers.ParallelPostFit) provides exactly that. It's a meta-estimator. It does nothing during training; the underlying estimator (probably a scikit-learn estimator) will probably be in-memory on a single machine. But tasks like `predict`, `score`, etc. are parallelized and distributed.\n",
        "\n",
        "Most of the time, using `ParallelPostFit` is as simple as wrapping the original estimator.\n",
        "When used inside a GridSearch, you'll need to update the keys of the parameters, just like with any meta-estimator.\n",
        "The only complication comes when using `ParallelPostFit` with another meta-estimator like `GridSearchCV`. In this case, you'll need to prefix your parameter names with `estimator__`."
      ]
    },
    {
      "cell_type": "code",
      "metadata": {
        "id": "5kgm69waXbtF"
      },
      "source": [
        "from sklearn.datasets import load_digits\n",
        "from sklearn.svm import SVC\n",
        "from dask_ml.wrappers import ParallelPostFit"
      ],
      "execution_count": 9,
      "outputs": []
    },
    {
      "cell_type": "markdown",
      "metadata": {
        "id": "2eC1GxqhXbtG"
      },
      "source": [
        "We'll load the small NumPy arrays for training."
      ]
    },
    {
      "cell_type": "code",
      "metadata": {
        "colab": {
          "base_uri": "https://localhost:8080/"
        },
        "id": "X_KUYiN0XbtG",
        "outputId": "e231f69b-bd86-4411-ae62-0c193ef3496f"
      },
      "source": [
        "X, y = load_digits(return_X_y=True)\n",
        "X.shape"
      ],
      "execution_count": 10,
      "outputs": [
        {
          "output_type": "execute_result",
          "data": {
            "text/plain": [
              "(1797, 64)"
            ]
          },
          "metadata": {
            "tags": []
          },
          "execution_count": 10
        }
      ]
    },
    {
      "cell_type": "code",
      "metadata": {
        "id": "psak30xvXbtG"
      },
      "source": [
        "svc = ParallelPostFit(SVC(random_state=0, gamma='scale'))\n",
        "\n",
        "param_grid = {\n",
        "    # use estimator__param instead of param\n",
        "    'estimator__C': [0.01, 1.0, 10],\n",
        "}\n",
        "\n",
        "grid_search = GridSearchCV(svc, param_grid, cv=3)"
      ],
      "execution_count": 12,
      "outputs": []
    },
    {
      "cell_type": "markdown",
      "metadata": {
        "id": "Kv2rJbouXbtH"
      },
      "source": [
        "And fit as usual."
      ]
    },
    {
      "cell_type": "code",
      "metadata": {
        "colab": {
          "base_uri": "https://localhost:8080/"
        },
        "id": "kB1fyALEXbtH",
        "outputId": "c2de63ee-b012-4f8d-b117-01c4039a1dee"
      },
      "source": [
        "grid_search.fit(X, y)"
      ],
      "execution_count": 13,
      "outputs": [
        {
          "output_type": "execute_result",
          "data": {
            "text/plain": [
              "GridSearchCV(cv=3, estimator=ParallelPostFit(estimator=SVC(random_state=0)),\n",
              "             param_grid={'estimator__C': [0.01, 1.0, 10]})"
            ]
          },
          "metadata": {
            "tags": []
          },
          "execution_count": 13
        }
      ]
    },
    {
      "cell_type": "markdown",
      "metadata": {
        "id": "QA0WgvJIXbtI"
      },
      "source": [
        "We'll simulate a large dask array by replicating the training data a few times.\n",
        "In reality, you would load this from your file system."
      ]
    },
    {
      "cell_type": "code",
      "metadata": {
        "id": "BdsMLYjBXbtI"
      },
      "source": [
        "import dask.array as da"
      ],
      "execution_count": 14,
      "outputs": []
    },
    {
      "cell_type": "code",
      "metadata": {
        "colab": {
          "base_uri": "https://localhost:8080/",
          "height": 196
        },
        "id": "XUdbXcwjXbtJ",
        "outputId": "66af515b-5edf-4862-bcd3-9360917f51fa"
      },
      "source": [
        "big_X = da.concatenate([\n",
        "    da.from_array(X, chunks=X.shape)\n",
        "    for _ in range(10)\n",
        "])\n",
        "big_X"
      ],
      "execution_count": 15,
      "outputs": [
        {
          "output_type": "execute_result",
          "data": {
            "text/html": [
              "<table>\n",
              "<tr>\n",
              "<td>\n",
              "<table>\n",
              "  <thead>\n",
              "    <tr><td> </td><th> Array </th><th> Chunk </th></tr>\n",
              "  </thead>\n",
              "  <tbody>\n",
              "    <tr><th> Bytes </th><td> 9.20 MB </td> <td> 920.06 kB </td></tr>\n",
              "    <tr><th> Shape </th><td> (17970, 64) </td> <td> (1797, 64) </td></tr>\n",
              "    <tr><th> Count </th><td> 11 Tasks </td><td> 10 Chunks </td></tr>\n",
              "    <tr><th> Type </th><td> float64 </td><td> numpy.ndarray </td></tr>\n",
              "  </tbody>\n",
              "</table>\n",
              "</td>\n",
              "<td>\n",
              "<svg width=\"75\" height=\"170\" style=\"stroke:rgb(0,0,0);stroke-width:1\" >\n",
              "\n",
              "  <!-- Horizontal lines -->\n",
              "  <line x1=\"0\" y1=\"0\" x2=\"25\" y2=\"0\" style=\"stroke-width:2\" />\n",
              "  <line x1=\"0\" y1=\"12\" x2=\"25\" y2=\"12\" />\n",
              "  <line x1=\"0\" y1=\"24\" x2=\"25\" y2=\"24\" />\n",
              "  <line x1=\"0\" y1=\"36\" x2=\"25\" y2=\"36\" />\n",
              "  <line x1=\"0\" y1=\"48\" x2=\"25\" y2=\"48\" />\n",
              "  <line x1=\"0\" y1=\"60\" x2=\"25\" y2=\"60\" />\n",
              "  <line x1=\"0\" y1=\"72\" x2=\"25\" y2=\"72\" />\n",
              "  <line x1=\"0\" y1=\"84\" x2=\"25\" y2=\"84\" />\n",
              "  <line x1=\"0\" y1=\"96\" x2=\"25\" y2=\"96\" />\n",
              "  <line x1=\"0\" y1=\"108\" x2=\"25\" y2=\"108\" />\n",
              "  <line x1=\"0\" y1=\"120\" x2=\"25\" y2=\"120\" style=\"stroke-width:2\" />\n",
              "\n",
              "  <!-- Vertical lines -->\n",
              "  <line x1=\"0\" y1=\"0\" x2=\"0\" y2=\"120\" style=\"stroke-width:2\" />\n",
              "  <line x1=\"25\" y1=\"0\" x2=\"25\" y2=\"120\" style=\"stroke-width:2\" />\n",
              "\n",
              "  <!-- Colored Rectangle -->\n",
              "  <polygon points=\"0.0,0.0 25.412616514582485,0.0 25.412616514582485,120.0 0.0,120.0\" style=\"fill:#ECB172A0;stroke-width:0\"/>\n",
              "\n",
              "  <!-- Text -->\n",
              "  <text x=\"12.706308\" y=\"140.000000\" font-size=\"1.0rem\" font-weight=\"100\" text-anchor=\"middle\" >64</text>\n",
              "  <text x=\"45.412617\" y=\"60.000000\" font-size=\"1.0rem\" font-weight=\"100\" text-anchor=\"middle\" transform=\"rotate(-90,45.412617,60.000000)\">17970</text>\n",
              "</svg>\n",
              "</td>\n",
              "</tr>\n",
              "</table>"
            ],
            "text/plain": [
              "dask.array<concatenate, shape=(17970, 64), dtype=float64, chunksize=(1797, 64), chunktype=numpy.ndarray>"
            ]
          },
          "metadata": {
            "tags": []
          },
          "execution_count": 15
        }
      ]
    },
    {
      "cell_type": "markdown",
      "metadata": {
        "id": "jiRPQcC6XbtJ"
      },
      "source": [
        "Operations like `predict`, or `predict_proba` return dask, rather than NumPy arrays.\n",
        "When you compute, the work will be done in parallel, out of core or distributed on the cluster."
      ]
    },
    {
      "cell_type": "code",
      "metadata": {
        "colab": {
          "base_uri": "https://localhost:8080/",
          "height": 129
        },
        "id": "vJVWMAi1XbtK",
        "outputId": "c818c0c8-0248-4231-ac8c-e67b9b5cb707"
      },
      "source": [
        "predicted = grid_search.predict(big_X)\n",
        "predicted"
      ],
      "execution_count": 16,
      "outputs": [
        {
          "output_type": "execute_result",
          "data": {
            "text/html": [
              "<table>\n",
              "<tr>\n",
              "<td>\n",
              "<table>\n",
              "  <thead>\n",
              "    <tr><td> </td><th> Array </th><th> Chunk </th></tr>\n",
              "  </thead>\n",
              "  <tbody>\n",
              "    <tr><th> Bytes </th><td> 143.76 kB </td> <td> 14.38 kB </td></tr>\n",
              "    <tr><th> Shape </th><td> (17970,) </td> <td> (1797,) </td></tr>\n",
              "    <tr><th> Count </th><td> 21 Tasks </td><td> 10 Chunks </td></tr>\n",
              "    <tr><th> Type </th><td> int64 </td><td> numpy.ndarray </td></tr>\n",
              "  </tbody>\n",
              "</table>\n",
              "</td>\n",
              "<td>\n",
              "<svg width=\"170\" height=\"75\" style=\"stroke:rgb(0,0,0);stroke-width:1\" >\n",
              "\n",
              "  <!-- Horizontal lines -->\n",
              "  <line x1=\"0\" y1=\"0\" x2=\"120\" y2=\"0\" style=\"stroke-width:2\" />\n",
              "  <line x1=\"0\" y1=\"25\" x2=\"120\" y2=\"25\" style=\"stroke-width:2\" />\n",
              "\n",
              "  <!-- Vertical lines -->\n",
              "  <line x1=\"0\" y1=\"0\" x2=\"0\" y2=\"25\" style=\"stroke-width:2\" />\n",
              "  <line x1=\"12\" y1=\"0\" x2=\"12\" y2=\"25\" />\n",
              "  <line x1=\"24\" y1=\"0\" x2=\"24\" y2=\"25\" />\n",
              "  <line x1=\"36\" y1=\"0\" x2=\"36\" y2=\"25\" />\n",
              "  <line x1=\"48\" y1=\"0\" x2=\"48\" y2=\"25\" />\n",
              "  <line x1=\"60\" y1=\"0\" x2=\"60\" y2=\"25\" />\n",
              "  <line x1=\"72\" y1=\"0\" x2=\"72\" y2=\"25\" />\n",
              "  <line x1=\"84\" y1=\"0\" x2=\"84\" y2=\"25\" />\n",
              "  <line x1=\"96\" y1=\"0\" x2=\"96\" y2=\"25\" />\n",
              "  <line x1=\"108\" y1=\"0\" x2=\"108\" y2=\"25\" />\n",
              "  <line x1=\"120\" y1=\"0\" x2=\"120\" y2=\"25\" style=\"stroke-width:2\" />\n",
              "\n",
              "  <!-- Colored Rectangle -->\n",
              "  <polygon points=\"0.0,0.0 120.0,0.0 120.0,25.412616514582485 0.0,25.412616514582485\" style=\"fill:#ECB172A0;stroke-width:0\"/>\n",
              "\n",
              "  <!-- Text -->\n",
              "  <text x=\"60.000000\" y=\"45.412617\" font-size=\"1.0rem\" font-weight=\"100\" text-anchor=\"middle\" >17970</text>\n",
              "  <text x=\"140.000000\" y=\"12.706308\" font-size=\"1.0rem\" font-weight=\"100\" text-anchor=\"middle\" transform=\"rotate(0,140.000000,12.706308)\">1</text>\n",
              "</svg>\n",
              "</td>\n",
              "</tr>\n",
              "</table>"
            ],
            "text/plain": [
              "dask.array<_predict, shape=(17970,), dtype=int64, chunksize=(1797,), chunktype=numpy.ndarray>"
            ]
          },
          "metadata": {
            "tags": []
          },
          "execution_count": 16
        }
      ]
    },
    {
      "cell_type": "markdown",
      "metadata": {
        "id": "h-7D10lbXbtL"
      },
      "source": [
        "At this point predicted could be written to disk, or aggregated before returning to the client."
      ]
    }
  ]
}